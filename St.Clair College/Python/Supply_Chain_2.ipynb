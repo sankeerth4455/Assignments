{
  "nbformat": 4,
  "nbformat_minor": 0,
  "metadata": {
    "colab": {
      "name": "Individual_Lab_3.ipynb",
      "provenance": []
    },
    "kernelspec": {
      "name": "python3",
      "display_name": "Python 3"
    },
    "language_info": {
      "name": "python"
    }
  },
  "cells": [
    {
      "cell_type": "code",
      "execution_count": 2,
      "metadata": {
        "colab": {
          "base_uri": "https://localhost:8080/"
        },
        "id": "ibMYy9K9bHD5",
        "outputId": "75259fba-d690-4606-cea2-1404bb058122"
      },
      "outputs": [
        {
          "output_type": "stream",
          "name": "stdout",
          "text": [
            "Collecting pulp\n",
            "  Downloading PuLP-2.6.0-py3-none-any.whl (14.2 MB)\n",
            "\u001b[K     |████████████████████████████████| 14.2 MB 4.3 MB/s \n",
            "\u001b[?25hInstalling collected packages: pulp\n",
            "Successfully installed pulp-2.6.0\n"
          ]
        }
      ],
      "source": [
        "# Importing Packages\n",
        "!pip install pulp\n",
        "import pulp\n",
        "from pulp import *\n",
        "import pandas as pd\n",
        "import numpy as np\n",
        "import sklearn\n",
        "from sklearn import *"
      ]
    },
    {
      "cell_type": "code",
      "source": [
        "# Model info and name of constraints\n",
        "Model = LpProblem(\"Cost-Problem\", LpMinimize)\n",
        "Wr = LpVariable('Wheat_Regular', cat='Integer', lowBound=0)\n",
        "Wb = LpVariable('Wheat_Butter', cat='Integer', lowBound=0)\n",
        "Br = LpVariable('Butter_Regular', cat='Integer', lowBound=0)\n",
        "Bb = LpVariable('Butter_Butter', cat='Integer', lowBound=0)\n",
        "BSr = LpVariable('Soda_Regular', cat='Integer', lowBound=0)\n",
        "BSb = LpVariable('Soda_Butter', cat='Integer', lowBound=0)"
      ],
      "metadata": {
        "id": "HEM2c3rAb7Kv"
      },
      "execution_count": 4,
      "outputs": []
    },
    {
      "cell_type": "code",
      "source": [
        "# Objective Function\n",
        "obj_func = 2.46*(Wr + Wb) + 4.32*(Br + Bb) + 1.86*(BSr + BSb)\n",
        "Model +=  obj_func\n",
        "Model"
      ],
      "metadata": {
        "colab": {
          "base_uri": "https://localhost:8080/"
        },
        "id": "LzfhZsfCcvBX",
        "outputId": "c1dd7ace-534b-487e-c72a-50591e54799e"
      },
      "execution_count": 5,
      "outputs": [
        {
          "output_type": "execute_result",
          "data": {
            "text/plain": [
              "Cost-Problem:\n",
              "MINIMIZE\n",
              "4.32*Butter_Butter + 4.32*Butter_Regular + 1.86*Soda_Butter + 1.86*Soda_Regular + 2.46*Wheat_Butter + 2.46*Wheat_Regular + 0.0\n",
              "VARIABLES\n",
              "0 <= Butter_Butter Integer\n",
              "0 <= Butter_Regular Integer\n",
              "0 <= Soda_Butter Integer\n",
              "0 <= Soda_Regular Integer\n",
              "0 <= Wheat_Butter Integer\n",
              "0 <= Wheat_Regular Integer"
            ]
          },
          "metadata": {},
          "execution_count": 5
        }
      ]
    },
    {
      "cell_type": "code",
      "source": [
        "# 2 Types of croissants\n",
        "Model += Br >= 0.4*(Wr + Br + BSr)\n",
        "Model += Bb >= 0.6*(Wb + Bb + BSb)"
      ],
      "metadata": {
        "id": "MBLQOU_jdLQl"
      },
      "execution_count": 6,
      "outputs": []
    },
    {
      "cell_type": "code",
      "source": [
        "# The most baking soda we can use in our croissant is 25%\n",
        "Model += BSr <= 0.25*(Wr + Br + BSr)\n",
        "Model += BSb <= 0.25*(Wb + Bb + BSb)"
      ],
      "metadata": {
        "id": "yeXGahLmdqHx"
      },
      "execution_count": 7,
      "outputs": []
    },
    {
      "cell_type": "code",
      "source": [
        "# We have already purchased 23 kg butter that must go in our croissants.\n",
        "Model += (Br + Bb) >= 23"
      ],
      "metadata": {
        "id": "bND-vzBAd9ct"
      },
      "execution_count": 8,
      "outputs": []
    },
    {
      "cell_type": "code",
      "source": [
        "# We have a demand for 350 regular croissants and 500 butter croissants.\n",
        "Model += (Wr + Br + BSr ) == 350*.05\n",
        "Model += (Wb + Bb + BSb) == 500*.05"
      ],
      "metadata": {
        "id": "1zq7HgxaeC5d"
      },
      "execution_count": 9,
      "outputs": []
    },
    {
      "cell_type": "code",
      "source": [
        "# Total availability\n",
        "Model += (Wr + Wb) <= 20\n",
        "Model += (Br + Bb) <= 30 \n",
        "Model += (BSr + BSb) <=17"
      ],
      "metadata": {
        "id": "kmgU_0PVeGoR"
      },
      "execution_count": 10,
      "outputs": []
    },
    {
      "cell_type": "code",
      "source": [
        "# Print Model\n",
        "Model"
      ],
      "metadata": {
        "colab": {
          "base_uri": "https://localhost:8080/"
        },
        "id": "dA5uoI6keXwe",
        "outputId": "c1b20972-7e80-4cbd-809b-aa683c2c762b"
      },
      "execution_count": 11,
      "outputs": [
        {
          "output_type": "execute_result",
          "data": {
            "text/plain": [
              "Cost-Problem:\n",
              "MINIMIZE\n",
              "4.32*Butter_Butter + 4.32*Butter_Regular + 1.86*Soda_Butter + 1.86*Soda_Regular + 2.46*Wheat_Butter + 2.46*Wheat_Regular + 0.0\n",
              "SUBJECT TO\n",
              "_C1: 0.6 Butter_Regular - 0.4 Soda_Regular - 0.4 Wheat_Regular >= 0\n",
              "\n",
              "_C2: 0.4 Butter_Butter - 0.6 Soda_Butter - 0.6 Wheat_Butter >= 0\n",
              "\n",
              "_C3: - 0.25 Butter_Regular + 0.75 Soda_Regular - 0.25 Wheat_Regular <= 0\n",
              "\n",
              "_C4: - 0.25 Butter_Butter + 0.75 Soda_Butter - 0.25 Wheat_Butter <= 0\n",
              "\n",
              "_C5: Butter_Butter + Butter_Regular >= 23\n",
              "\n",
              "_C6: Butter_Regular + Soda_Regular + Wheat_Regular = 17.5\n",
              "\n",
              "_C7: Butter_Butter + Soda_Butter + Wheat_Butter = 25\n",
              "\n",
              "_C8: Wheat_Butter + Wheat_Regular <= 20\n",
              "\n",
              "_C9: Butter_Butter + Butter_Regular <= 30\n",
              "\n",
              "_C10: Soda_Butter + Soda_Regular <= 17\n",
              "\n",
              "VARIABLES\n",
              "0 <= Butter_Butter Integer\n",
              "0 <= Butter_Regular Integer\n",
              "0 <= Soda_Butter Integer\n",
              "0 <= Soda_Regular Integer\n",
              "0 <= Wheat_Butter Integer\n",
              "0 <= Wheat_Regular Integer"
            ]
          },
          "metadata": {},
          "execution_count": 11
        }
      ]
    },
    {
      "cell_type": "code",
      "source": [
        "Model.solve()\n",
        "# solvers.PULP_CBC_CMD(fracGap=0)\n",
        "status =  LpStatus[Model.status]\n",
        "print(status)"
      ],
      "metadata": {
        "colab": {
          "base_uri": "https://localhost:8080/"
        },
        "id": "7yK8NgzwfCmY",
        "outputId": "babfe1e6-38ef-4d74-a2f5-7a8100bd5bea"
      },
      "execution_count": 14,
      "outputs": [
        {
          "output_type": "stream",
          "name": "stdout",
          "text": [
            "Infeasible\n"
          ]
        }
      ]
    },
    {
      "cell_type": "code",
      "source": [
        "# Total Cost\n",
        "print(\"Total Cost:\", Model.objective.value())\n",
        "# Decision Variables\n",
        "for v in Model.variables():\n",
        "    try:\n",
        "        print(v.name,\"=\", v.value())\n",
        "    except:\n",
        "        print(\"error couldnt find value\")"
      ],
      "metadata": {
        "colab": {
          "base_uri": "https://localhost:8080/"
        },
        "id": "l3ol4PHtfkiP",
        "outputId": "d2a5c373-bf74-475d-c360-a9a5294ae4da"
      },
      "execution_count": 15,
      "outputs": [
        {
          "output_type": "stream",
          "name": "stdout",
          "text": [
            "Total Cost: 140.955\n",
            "Butter_Butter = 15.0\n",
            "Butter_Regular = 8.0\n",
            "Soda_Butter = 6.25\n",
            "Soda_Regular = 4.375\n",
            "Wheat_Butter = 3.75\n",
            "Wheat_Regular = 5.125\n"
          ]
        }
      ]
    },
    {
      "cell_type": "code",
      "source": [
        "# Quantity of Butter, Soda and Wheat\n",
        "print(\"Butter: \", Bb.value() + Br.value())\n",
        "print(\"Soda: \", BSb.value() + BSr.value())\n",
        "print(\"Wheat: \", Wb.value() + Wr.value())"
      ],
      "metadata": {
        "colab": {
          "base_uri": "https://localhost:8080/"
        },
        "id": "ME7HvRpYfp6x",
        "outputId": "97c80d06-77bb-49b0-e6ce-f7677891a556"
      },
      "execution_count": 16,
      "outputs": [
        {
          "output_type": "stream",
          "name": "stdout",
          "text": [
            "Butter:  23.0\n",
            "Soda:  10.625\n",
            "Wheat:  8.875\n"
          ]
        }
      ]
    }
  ]
}